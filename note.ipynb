{
 "cells": [
  {
   "cell_type": "markdown",
   "metadata": {},
   "source": []
  },
  {
   "cell_type": "code",
   "execution_count": 2,
   "metadata": {},
   "outputs": [],
   "source": [
    "import lap\n",
    "import numpy as np"
   ]
  },
  {
   "cell_type": "code",
   "execution_count": 5,
   "metadata": {},
   "outputs": [
    {
     "name": "stdout",
     "output_type": "stream",
     "text": [
      "[-1  1  0 -1 -1 -1]\n",
      "[ 2  1 -1]\n"
     ]
    }
   ],
   "source": [
    "\n",
    "cost_matrix = np.array([\n",
    "    [1.1, 1.0, 1.3],\n",
    "    [0.4, 0.5, 0.6],\n",
    "    [0.1, 1.0, 0.9],\n",
    "    [0.1, 0.8, 0.9],\n",
    "    [0.1, 0.8, 0.9],\n",
    "    [0.7, 0.8, 0.9],\n",
    "])\n",
    "cost, x, y = lap.lapjv(cost_matrix, extend_cost=True, cost_limit=0.8)\n",
    "print(x)\n",
    "print(y)"
   ]
  },
  {
   "cell_type": "code",
   "execution_count": 8,
   "metadata": {},
   "outputs": [
    {
     "data": {
      "text/plain": [
       "0"
      ]
     },
     "execution_count": 8,
     "metadata": {},
     "output_type": "execute_result"
    }
   ],
   "source": []
  }
 ],
 "metadata": {
  "kernelspec": {
   "display_name": "Python 3",
   "language": "python",
   "name": "python3"
  },
  "language_info": {
   "codemirror_mode": {
    "name": "ipython",
    "version": 3
   },
   "file_extension": ".py",
   "mimetype": "text/x-python",
   "name": "python",
   "nbconvert_exporter": "python",
   "pygments_lexer": "ipython3",
   "version": "3.8.10"
  }
 },
 "nbformat": 4,
 "nbformat_minor": 2
}
